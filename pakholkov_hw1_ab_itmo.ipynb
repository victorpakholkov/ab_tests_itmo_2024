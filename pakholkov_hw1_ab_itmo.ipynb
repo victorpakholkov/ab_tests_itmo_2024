{
  "cells": [
    {
      "cell_type": "markdown",
      "metadata": {
        "id": "jAnimeQj0KZA"
      },
      "source": [
        "## Setup"
      ]
    },
    {
      "cell_type": "code",
      "execution_count": 1,
      "metadata": {
        "id": "Dz42UxA60FWI"
      },
      "outputs": [],
      "source": [
        "import numpy as np\n",
        "import scipy\n",
        "import matplotlib.pyplot as plt\n",
        "import scipy.stats as stats\n",
        "from scipy.stats import norm\n",
        "from scipy.stats import mannwhitneyu\n",
        "import statsmodels\n",
        "import statsmodels.sandbox.stats.multicomp\n",
        "import pandas as pd\n",
        "import datetime\n",
        "from statsmodels.stats.weightstats import ztest\n",
        "\n",
        "import matplotlib.pyplot as plt\n",
        "import seaborn as sns\n",
        "\n",
        "from tqdm.notebook import tqdm\n",
        "from sklearn.utils import shuffle\n",
        "import hashlib\n",
        "from base64 import b64encode\n",
        "import collections\n",
        "import requests\n",
        "import zipfile\n",
        "import os"
      ]
    },
    {
      "cell_type": "code",
      "execution_count": 2,
      "metadata": {
        "colab": {
          "base_uri": "https://localhost:8080/",
          "height": 69,
          "referenced_widgets": [
            "b526b2b810bc4951b2f0b0441a93c022",
            "8162ba8db12240d7aa22621cbd32b7f6",
            "be3e34dc082a4270ae97755f19ecd251",
            "846bda224c2a48689211bf3011d93d64",
            "0e7a4f72a4a741eba6b8aad67f21479d",
            "0289439fc2154ce1b8ba8943f9008f67",
            "a6c28dec95db4821b8c886a833db6134",
            "dd516e1240ca48a59075c0819517c56c",
            "d5e140c0862a4eddb15ebbfc0cef7210",
            "cdb902a8c3ee4b22a12fefceb088eae8",
            "a2960970663e490dae9e3f627335b637"
          ]
        },
        "id": "Lw2GXubm0UJu",
        "outputId": "d4965a6e-f41c-4900-8127-a5027d64c61c"
      },
      "outputs": [
        {
          "data": {
            "application/vnd.jupyter.widget-view+json": {
              "model_id": "52f31fad738f41d98bd2870bfcb38839",
              "version_major": 2,
              "version_minor": 0
            },
            "text/plain": [
              "kion dataset download:   0%|          | 0.00/78.8M [00:00<?, ?iB/s]"
            ]
          },
          "metadata": {},
          "output_type": "display_data"
        }
      ],
      "source": [
        "url = \"https://github.com/sharthZ23/your-second-recsys/raw/master/data_kion.zip\"\n",
        "\n",
        "req = requests.get(url, stream=True)\n",
        "\n",
        "with open('data_kion.zip', \"wb\") as fd:\n",
        "    total_size_in_bytes = int(req.headers.get('Content-Length', 0))\n",
        "    progress_bar = tqdm(desc='kion dataset download', total=total_size_in_bytes, unit='iB', unit_scale=True)\n",
        "    for chunk in req.iter_content(chunk_size=2 ** 20):\n",
        "        progress_bar.update(len(chunk))\n",
        "        fd.write(chunk)\n",
        "\n",
        "with zipfile.ZipFile('data_kion.zip', 'r') as zip_ref:\n",
        "    zip_ref.extractall()\n",
        "\n",
        "interactions = pd.read_csv('data_kion/interactions_df.csv')\n",
        "users = pd.read_csv('data_kion/users.csv')\n",
        "items = pd.read_csv('data_kion/items.csv')"
      ]
    },
    {
      "cell_type": "code",
      "execution_count": 3,
      "metadata": {
        "id": "-raSpB9m0i8y"
      },
      "outputs": [],
      "source": [
        "interactions['last_watch_dt'] = pd.to_datetime(interactions['last_watch_dt']).map(lambda x: x.date())\n",
        "interactions['user_id'] = interactions['user_id'].astype(str)"
      ]
    },
    {
      "cell_type": "code",
      "execution_count": 4,
      "metadata": {
        "id": "4VsMiosU5Y8L"
      },
      "outputs": [
        {
          "name": "stderr",
          "output_type": "stream",
          "text": [
            "C:\\Users\\Victo\\AppData\\Local\\Temp\\ipykernel_15848\\3355431356.py:3: FutureWarning: The provided callable <built-in function sum> is currently using SeriesGroupBy.sum. In a future version of pandas, the provided callable will be used directly. To keep current behavior pass the string \"sum\" instead.\n",
            "  last2weeks = last2weeks.groupby('user_id', as_index=False).agg({'total_dur': sum})\n"
          ]
        }
      ],
      "source": [
        "max_date = interactions['last_watch_dt'].max()\n",
        "last2weeks = interactions[interactions['last_watch_dt'] >= max_date - datetime.timedelta(days=14)]\n",
        "last2weeks = last2weeks.groupby('user_id', as_index=False).agg({'total_dur': sum})"
      ]
    },
    {
      "cell_type": "code",
      "execution_count": 5,
      "metadata": {
        "id": "bNUHQiFl7GBe"
      },
      "outputs": [],
      "source": [
        "def salt_generator(salt=None):\n",
        "    import os\n",
        "    from base64 import b64encode\n",
        "    salt = os.urandom(8)\n",
        "    return b64encode(salt).decode('ascii')\n",
        "\n",
        "\n",
        "def groups_splitter(df, columns, user_salt=None):\n",
        "    if user_salt == None:\n",
        "        salt = salt_generator()\n",
        "    else:\n",
        "        salt = user_salt\n",
        "    df['hash'] = ((df['user_id'].astype(str)) + '#' + salt).apply(lambda x: hashlib.sha256(x.encode('utf-8')).hexdigest())\n",
        "    df['group'] = ((df['hash'].str.slice(start=-6).apply(int, base=16) % 2).map(lambda x: 'A' if x == 0 else 'B'))\n",
        "    return df[columns].drop_duplicates()\n",
        "\n",
        "\n",
        "def get_bootstrap_array(arr):\n",
        "    return np.random.choice(arr, replace=True, size=len(arr))\n",
        "\n",
        "\n",
        "\n",
        "def calc_bootstrap_mean(arr, size=1000):\n",
        "    result = np.empty(size)\n",
        "    for i in range(size):\n",
        "        result[i] = np.mean(get_bootstrap_array(arr))\n",
        "    return result\n",
        "\n",
        "\n",
        "def get_p_value(dist):\n",
        "    dist = np.array(dist)\n",
        "    x = (dist > 0).mean()\n",
        "    pvalue = min(x, 1 - x) * 2\n",
        "    return pvalue\n",
        "\n",
        "\n",
        "def get_mde(metric_vec, alpha, beta):\n",
        "    metric_mean, metric_std, metric_n = metric_vec.mean(), metric_vec.std(), metric_vec.count()\n",
        "    z_alpha = norm.ppf(1 - (alpha / 2), loc=0, scale=1)\n",
        "    z_beta = norm.ppf(1 - beta, loc=0, scale=1)\n",
        "    mde = (z_alpha + z_beta)*metric_std / np.sqrt(metric_n)\n",
        "    return mde*100/metric_mean"
      ]
    },
    {
      "cell_type": "code",
      "execution_count": 6,
      "metadata": {
        "colab": {
          "base_uri": "https://localhost:8080/",
          "height": 132
        },
        "id": "yCWu28qn8tYu",
        "outputId": "021a746b-7d62-44f7-ccac-4f70e7485f39"
      },
      "outputs": [
        {
          "name": "stdout",
          "output_type": "stream",
          "text": [
            "(279129, 2)\n",
            "(275616, 2)\n"
          ]
        }
      ],
      "source": [
        "#last2weeks\n",
        "print(last2weeks.shape)\n",
        "last2weeks = last2weeks[(last2weeks['total_dur'] < last2weeks['total_dur'].std() * 3)]\n",
        "print(last2weeks.shape)"
      ]
    },
    {
      "cell_type": "markdown",
      "metadata": {
        "id": "VdsbsP4S66Gu"
      },
      "source": [
        "## Bootstrap"
      ]
    },
    {
      "cell_type": "markdown",
      "metadata": {
        "id": "iCx6OdOk8HMJ"
      },
      "source": [
        "### Significance"
      ]
    },
    {
      "cell_type": "code",
      "execution_count": 7,
      "metadata": {},
      "outputs": [
        {
          "data": {
            "application/vnd.jupyter.widget-view+json": {
              "model_id": "2f3119458b3946c5a1013bb100c9f878",
              "version_major": 2,
              "version_minor": 0
            },
            "text/plain": [
              "  0%|          | 0/1000 [00:00<?, ?it/s]"
            ]
          },
          "metadata": {},
          "output_type": "display_data"
        },
        {
          "name": "stdout",
          "output_type": "stream",
          "text": [
            "significance: 5.3%\n"
          ]
        }
      ],
      "source": [
        "correctness = []\n",
        "values = []\n",
        "\n",
        "for i in tqdm(range(1000)):\n",
        "\n",
        "    new_df = groups_splitter(last2weeks.copy(), columns=['user_id', 'total_dur', 'group'], user_salt=salt_generator()).drop_duplicates()\n",
        "\n",
        "\n",
        "    vec_a = new_df[(new_df['group'] == 'A')]['total_dur']\n",
        "    vec_b = new_df[(new_df['group'] == 'B')]['total_dur']\n",
        "\n",
        "    #bootstrap\n",
        "    sample_a_mean = calc_bootstrap_mean(vec_a, size=1000) # на бутстрэпе считаем средние для вектора\n",
        "    sample_b_mean = calc_bootstrap_mean(vec_b, size=1000)\n",
        "    values.append(sample_a_mean - sample_b_mean)\n",
        "\n",
        "    left_side, right_side = np.percentile(sample_a_mean - sample_b_mean,\n",
        "                                                  [100 * 0.05 / 2., 100 * (1 - 0.05 / 2.)]) # считаем 95% доверительный интервал для разницы средних\n",
        "\n",
        "    correctness.append(not left_side <= 0 <= right_side)    \n",
        "\n",
        "    test_correctness = collections.Counter(correctness)\n",
        "\n",
        "print(f'significance: {test_correctness[1]/(test_correctness[1] + test_correctness[0])*100}%')"
      ]
    },
    {
      "cell_type": "markdown",
      "metadata": {},
      "source": [
        "Мы проводим A/A тест для того чтобы оценить корректность нашего подхода и проверить, найдёт ли бутстреп значительное различие в группах, в которых его нет (эффект не примешан). На 2х неделях мы получили результат в 5.3%, что достаточно неплохо, при обычном threshold в 5%. 5.3% конечно выше 5%, но в целом для real-world data не так плохо. На 1 неделе мы получали 6% из-за меньшего сэмпла, соответственно большей variability в данных. Все это означает, что бутстреп не нашёл принципиальной разницы между группами без эффекта, что вообщем то мы и ожидали. "
      ]
    },
    {
      "cell_type": "code",
      "execution_count": 8,
      "metadata": {
        "colab": {
          "background_save": true
        },
        "id": "uZXRrCrI-rj-"
      },
      "outputs": [
        {
          "data": {
            "text/plain": [
              "Text(0.5, 1.0, 'Бутстреп распределение p_value')"
            ]
          },
          "execution_count": 8,
          "metadata": {},
          "output_type": "execute_result"
        },
        {
          "data": {
            "image/png": "[encoded data removed]",
            "text/plain": [
              "<Figure size 640x480 with 1 Axes>"
            ]
          },
          "metadata": {},
          "output_type": "display_data"
        }
      ],
      "source": [
        "p_values = [get_p_value(dist) for dist in values]\n",
        "plt.hist(p_values, bins=10, color='purple');\n",
        "plt.title(f\"Бутстреп распределение p_value\")"
      ]
    },
    {
      "cell_type": "markdown",
      "metadata": {
        "id": "zsZfCsOW_jIn"
      },
      "source": [
        "### Power"
      ]
    },
    {
      "cell_type": "markdown",
      "metadata": {
        "id": "iVf7L0q5AUoR"
      },
      "source": [
        "Эффект в 1%"
      ]
    },
    {
      "cell_type": "code",
      "execution_count": 9,
      "metadata": {
        "id": "YSMpSNYb_kf3"
      },
      "outputs": [
        {
          "data": {
            "application/vnd.jupyter.widget-view+json": {
              "model_id": "92e5765880364bfc8876eb3827bb8956",
              "version_major": 2,
              "version_minor": 0
            },
            "text/plain": [
              "  0%|          | 0/1000 [00:00<?, ?it/s]"
            ]
          },
          "metadata": {},
          "output_type": "display_data"
        },
        {
          "name": "stdout",
          "output_type": "stream",
          "text": [
            "power: 32.6%\n"
          ]
        }
      ],
      "source": [
        "power = []\n",
        "values = []\n",
        "\n",
        "for i in tqdm(range(1000)): \n",
        "\n",
        "    new_df = groups_splitter(last2weeks.copy(), columns=['user_id', 'total_dur', 'group'], user_salt=salt_generator()).drop_duplicates()\n",
        "\n",
        "\n",
        "    vec_a = new_df[(new_df['group'] == 'A')]['total_dur'] \n",
        "    vec_b = new_df[(new_df['group'] == 'B')]['total_dur'] * (1+0.01)  # докидаваем эффект в 1%\n",
        "\n",
        "    #bootstrap\n",
        "    sample_a_mean = calc_bootstrap_mean(vec_a, size=1000) # на бутстрэпе считаем средние для вектора\n",
        "    sample_b_mean = calc_bootstrap_mean(vec_b, size=1000)\n",
        "    values.append(sample_a_mean - sample_b_mean)\n",
        "\n",
        "    left_side, right_side = np.percentile(sample_a_mean - sample_b_mean,\n",
        "                                                  [100 * 0.05 / 2., 100 * (1 - 0.05 / 2.)]) # считаем 95% доверительный интервал для разницы средних\n",
        "\n",
        "    power.append(not left_side <= 0 <= right_side)\n",
        "\n",
        "    test_power = collections.Counter(power)\n",
        "\n",
        "print(f'power: {test_power[1]/(test_power[1] + test_power[0])*100}%')"
      ]
    },
    {
      "cell_type": "markdown",
      "metadata": {
        "id": "LDX6XSxQAci9"
      },
      "source": [
        "Эффект в 3%"
      ]
    },
    {
      "cell_type": "code",
      "execution_count": 10,
      "metadata": {
        "colab": {
          "background_save": true
        },
        "id": "wUeqIhsyAbsr"
      },
      "outputs": [
        {
          "data": {
            "application/vnd.jupyter.widget-view+json": {
              "model_id": "5af20fb37c43400c907d0acebefd4b14",
              "version_major": 2,
              "version_minor": 0
            },
            "text/plain": [
              "  0%|          | 0/1000 [00:00<?, ?it/s]"
            ]
          },
          "metadata": {},
          "output_type": "display_data"
        },
        {
          "name": "stdout",
          "output_type": "stream",
          "text": [
            "power: 98.9%\n"
          ]
        }
      ],
      "source": [
        "power = []\n",
        "values = []\n",
        "\n",
        "for i in tqdm(range(1000)): \n",
        "\n",
        "    new_df = groups_splitter(last2weeks.copy(), columns=['user_id', 'total_dur', 'group'], user_salt=salt_generator()).drop_duplicates()\n",
        "\n",
        "\n",
        "    vec_a = new_df[(new_df['group'] == 'A')]['total_dur'] \n",
        "    vec_b = new_df[(new_df['group'] == 'B')]['total_dur'] * (1+0.03)  # докидаваем эффект в 3%\n",
        "\n",
        "    #bootstrap\n",
        "    sample_a_mean = calc_bootstrap_mean(vec_a, size=1000) # на бутстрэпе считаем средние для вектора\n",
        "    sample_b_mean = calc_bootstrap_mean(vec_b, size=1000)\n",
        "    values.append(sample_a_mean - sample_b_mean)\n",
        "\n",
        "    left_side, right_side = np.percentile(sample_a_mean - sample_b_mean,\n",
        "                                                  [100 * 0.05 / 2., 100 * (1 - 0.05 / 2.)]) # считаем 95% доверительный интервал для разницы средних\n",
        "\n",
        "    power.append(not left_side <= 0 <= right_side)\n",
        "\n",
        "    test_power = collections.Counter(power)\n",
        "\n",
        "print(f'power: {test_power[1]/(test_power[1] + test_power[0])*100}%')"
      ]
    },
    {
      "cell_type": "markdown",
      "metadata": {
        "id": "6rTR6cDpAdIX"
      },
      "source": [
        "Эффект в 5%"
      ]
    },
    {
      "cell_type": "code",
      "execution_count": 11,
      "metadata": {
        "colab": {
          "background_save": true
        },
        "id": "GdkK22moAdgh"
      },
      "outputs": [
        {
          "data": {
            "application/vnd.jupyter.widget-view+json": {
              "model_id": "a59bfebb93f14e8e89e8c1d74ecf5398",
              "version_major": 2,
              "version_minor": 0
            },
            "text/plain": [
              "  0%|          | 0/1000 [00:00<?, ?it/s]"
            ]
          },
          "metadata": {},
          "output_type": "display_data"
        },
        {
          "name": "stdout",
          "output_type": "stream",
          "text": [
            "power: 100.0%\n"
          ]
        }
      ],
      "source": [
        "power = []\n",
        "values = []\n",
        "\n",
        "for i in tqdm(range(1000)): \n",
        "\n",
        "    new_df = groups_splitter(last2weeks.copy(), columns=['user_id', 'total_dur', 'group'], user_salt=salt_generator()).drop_duplicates()\n",
        "\n",
        "\n",
        "    vec_a = new_df[(new_df['group'] == 'A')]['total_dur'] \n",
        "    vec_b = new_df[(new_df['group'] == 'B')]['total_dur'] * (1+0.05)  # докидаваем эффект в 5%\n",
        "\n",
        "    #bootstrap\n",
        "    sample_a_mean = calc_bootstrap_mean(vec_a, size=1000) # на бутстрэпе считаем средние для вектора\n",
        "    sample_b_mean = calc_bootstrap_mean(vec_b, size=1000)\n",
        "    values.append(sample_a_mean - sample_b_mean)\n",
        "\n",
        "    left_side, right_side = np.percentile(sample_a_mean - sample_b_mean,\n",
        "                                                  [100 * 0.05 / 2., 100 * (1 - 0.05 / 2.)]) # считаем 95% доверительный интервал для разницы средних\n",
        "\n",
        "    power.append(not left_side <= 0 <= right_side)\n",
        "\n",
        "    test_power = collections.Counter(power)\n",
        "\n",
        "print(f'power: {test_power[1]/(test_power[1] + test_power[0])*100}%')"
      ]
    },
    {
      "cell_type": "markdown",
      "metadata": {
        "id": "IuFvUJIZxCNt"
      },
      "source": [
        "Объяснение: power это вероятность правильно отказаться от нулевой гипотезы, когда различие в группах есть (подмешан или есть эффект). В этом контексте мы проводим три бутстрэп теста, подмешевая к группе B эффекты в 1%, 3% и 5%. В первом случае тест смог обнаружить значимое различие между группами A и B в 32.6% случаев, что означает, что он имеет довольно низкую мощность для небольшого эффекта. Мощность значительно увеличивается с возрастанием эффекта, как и должно быть. Тест смог обнаружить значимое различие в 98.9% случаев, когда реальное различие составляло 3%, и в 100% случаев при реальном различии в 5%. Это указывает на то, что тест будет явственно показывать разницу в случае больших эффектов, но не очень поведет себя если эффект небольшой."
      ]
    },
    {
      "cell_type": "markdown",
      "metadata": {
        "id": "MsKPbVoggMh0"
      },
      "source": [
        "## Design + metrics"
      ]
    },
    {
      "cell_type": "code",
      "execution_count": 12,
      "metadata": {
        "id": "CKm_JeBOiSCs"
      },
      "outputs": [],
      "source": [
        "last2weeks['total_dur_ln'] = np.log2(last2weeks['total_dur'])"
      ]
    },
    {
      "cell_type": "markdown",
      "metadata": {
        "id": "lUYAFAtDg2nr"
      },
      "source": [
        "### бутстреп + логарифмированная метрика длительности просмотров"
      ]
    },
    {
      "cell_type": "code",
      "execution_count": 13,
      "metadata": {
        "id": "4e_mBrPqgRRP"
      },
      "outputs": [
        {
          "data": {
            "application/vnd.jupyter.widget-view+json": {
              "model_id": "a1373b07ca204f7ba07b14edbaa872a0",
              "version_major": 2,
              "version_minor": 0
            },
            "text/plain": [
              "  0%|          | 0/1000 [00:00<?, ?it/s]"
            ]
          },
          "metadata": {},
          "output_type": "display_data"
        },
        {
          "name": "stdout",
          "output_type": "stream",
          "text": [
            "significance: 4.7%\n"
          ]
        }
      ],
      "source": [
        "correctness = []\n",
        "values = []\n",
        "\n",
        "for i in tqdm(range(1000)):\n",
        "\n",
        "    new_df = groups_splitter(last2weeks.copy(), columns=['user_id', 'total_dur_ln', 'group'], user_salt=salt_generator()).drop_duplicates()\n",
        "\n",
        "\n",
        "    vec_a = new_df[(new_df['group'] == 'A')]['total_dur_ln']\n",
        "    vec_b = new_df[(new_df['group'] == 'B')]['total_dur_ln']\n",
        "\n",
        "    #bootstrap\n",
        "    sample_a_mean = calc_bootstrap_mean(vec_a, size=1000) # на бутстрэпе считаем средние для вектора\n",
        "    sample_b_mean = calc_bootstrap_mean(vec_b, size=1000)\n",
        "    values.append(sample_a_mean - sample_b_mean)\n",
        "\n",
        "    left_side, right_side = np.percentile(sample_a_mean - sample_b_mean,\n",
        "                                                  [100 * 0.05 / 2., 100 * (1 - 0.05 / 2.)]) # считаем 95% доверительный интервал для разницы средних\n",
        "\n",
        "    correctness.append(not left_side <= 0 <= right_side)\n",
        "\n",
        "    test_correctness = collections.Counter(correctness)\n",
        "\n",
        "print(f'significance: {test_correctness[1]/(test_correctness[1] + test_correctness[0])*100}%')"
      ]
    },
    {
      "cell_type": "code",
      "execution_count": 14,
      "metadata": {
        "id": "D1ShZznOnSlK"
      },
      "outputs": [
        {
          "data": {
            "text/plain": [
              "Text(0.5, 1.0, 'Бутстреп распределение p_value c логарифмированной метрикой')"
            ]
          },
          "execution_count": 14,
          "metadata": {},
          "output_type": "execute_result"
        },
        {
          "data": {
            "image/png": "[encoded data removed]",
            "text/plain": [
              "<Figure size 640x480 with 1 Axes>"
            ]
          },
          "metadata": {},
          "output_type": "display_data"
        }
      ],
      "source": [
        "p_values = [get_p_value(dist) for dist in values]\n",
        "plt.hist(p_values, bins=10, color='purple');\n",
        "plt.title(f\"Бутстреп распределение p_value c логарифмированной метрикой\")"
      ]
    },
    {
      "cell_type": "code",
      "execution_count": 15,
      "metadata": {
        "id": "Oe-rqwwwm-GT"
      },
      "outputs": [
        {
          "data": {
            "application/vnd.jupyter.widget-view+json": {
              "model_id": "fabb35b1531f4eb6a86a918ea5115b3a",
              "version_major": 2,
              "version_minor": 0
            },
            "text/plain": [
              "  0%|          | 0/1000 [00:00<?, ?it/s]"
            ]
          },
          "metadata": {},
          "output_type": "display_data"
        },
        {
          "name": "stdout",
          "output_type": "stream",
          "text": [
            "\n",
            "power with 1% effect: 100.0%\n"
          ]
        },
        {
          "data": {
            "application/vnd.jupyter.widget-view+json": {
              "model_id": "3d9f500886d24f048a0a9950ae413bd4",
              "version_major": 2,
              "version_minor": 0
            },
            "text/plain": [
              "  0%|          | 0/1000 [00:00<?, ?it/s]"
            ]
          },
          "metadata": {},
          "output_type": "display_data"
        },
        {
          "name": "stdout",
          "output_type": "stream",
          "text": [
            "\n",
            "power with 3% effect: 100.0%\n"
          ]
        },
        {
          "data": {
            "application/vnd.jupyter.widget-view+json": {
              "model_id": "86710e2511e947b982913589f7a59bf1",
              "version_major": 2,
              "version_minor": 0
            },
            "text/plain": [
              "  0%|          | 0/1000 [00:00<?, ?it/s]"
            ]
          },
          "metadata": {},
          "output_type": "display_data"
        },
        {
          "name": "stdout",
          "output_type": "stream",
          "text": [
            "\n",
            "power with 3% effect: 100.0%\n"
          ]
        }
      ],
      "source": [
        "power_1 = []\n",
        "values_1 = []\n",
        "\n",
        "power_3 = []\n",
        "values_3 = []\n",
        "\n",
        "\n",
        "power_5 = []\n",
        "values_5 = []\n",
        "\n",
        "\n",
        "for i in tqdm(range(1000)): \n",
        "\n",
        "    new_df = groups_splitter(last2weeks.copy(), columns=['user_id', 'total_dur', 'group'], user_salt=salt_generator()).drop_duplicates()\n",
        "\n",
        "\n",
        "    vec_a = new_df[(new_df['group'] == 'A')]['total_dur'] \n",
        "    vec_b = new_df[(new_df['group'] == 'B')]['total_dur'] * np.log2(1+0.01)  # докидаваем эффект в 1\n",
        "\n",
        "    #bootstrap\n",
        "    sample_a_mean = calc_bootstrap_mean(vec_a, size=1000) # на бутстрэпе считаем средние для вектора\n",
        "    sample_b_mean = calc_bootstrap_mean(vec_b, size=1000)\n",
        "    values_1.append(sample_a_mean - sample_b_mean)\n",
        "\n",
        "    left_side, right_side = np.percentile(sample_a_mean - sample_b_mean,\n",
        "                                                  [100 * 0.05 / 2., 100 * (1 - 0.05 / 2.)]) # считаем 95% доверительный интервал для разницы средних\n",
        "\n",
        "    power_1.append(not left_side <= 0 <= right_side)\n",
        "\n",
        "    test_power_1 = collections.Counter(power_1)\n",
        "\n",
        "\n",
        "print()\n",
        "print(f'power with 1% effect: {test_power_1[1]/(test_power_1[1] + test_power_1[0])*100}%')\n",
        "\n",
        "\n",
        "\n",
        "for i in tqdm(range(1000)): \n",
        "\n",
        "    new_df = groups_splitter(last2weeks.copy(), columns=['user_id', 'total_dur', 'group'], user_salt=salt_generator()).drop_duplicates()\n",
        "\n",
        "\n",
        "    vec_a = new_df[(new_df['group'] == 'A')]['total_dur'] \n",
        "    vec_b = new_df[(new_df['group'] == 'B')]['total_dur'] * np.log2(1+0.03)  # докидаваем эффект в 3\n",
        "\n",
        "    #bootstrap\n",
        "    sample_a_mean = calc_bootstrap_mean(vec_a, size=1000) # на бутстрэпе считаем средние для вектора\n",
        "    sample_b_mean = calc_bootstrap_mean(vec_b, size=1000)\n",
        "    values_3.append(sample_a_mean - sample_b_mean)\n",
        "\n",
        "    left_side, right_side = np.percentile(sample_a_mean - sample_b_mean,\n",
        "                                                  [100 * 0.05 / 2., 100 * (1 - 0.05 / 2.)]) # считаем 95% доверительный интервал для разницы средних\n",
        "\n",
        "    power_3.append(not left_side <= 0 <= right_side)\n",
        "\n",
        "    test_power_3 = collections.Counter(power_3)\n",
        "\n",
        "\n",
        "print()\n",
        "print(f'power with 3% effect: {test_power_3[1]/(test_power_3[1] + test_power_3[0])*100}%')\n",
        "\n",
        "\n",
        "for i in tqdm(range(1000)): \n",
        "\n",
        "    new_df = groups_splitter(last2weeks.copy(), columns=['user_id', 'total_dur', 'group'], user_salt=salt_generator()).drop_duplicates()\n",
        "\n",
        "\n",
        "    vec_a = new_df[(new_df['group'] == 'A')]['total_dur'] \n",
        "    vec_b = new_df[(new_df['group'] == 'B')]['total_dur'] * np.log2(1+0.05)  # докидаваем эффект в 5\n",
        "\n",
        "    #bootstrap\n",
        "    sample_a_mean = calc_bootstrap_mean(vec_a, size=1000) # на бутстрэпе считаем средние для вектора\n",
        "    sample_b_mean = calc_bootstrap_mean(vec_b, size=1000)\n",
        "    values_5.append(sample_a_mean - sample_b_mean)\n",
        "\n",
        "    left_side, right_side = np.percentile(sample_a_mean - sample_b_mean,\n",
        "                                                  [100 * 0.05 / 2., 100 * (1 - 0.05 / 2.)]) # считаем 95% доверительный интервал для разницы средних\n",
        "\n",
        "    power_5.append(not left_side <= 0 <= right_side)\n",
        "\n",
        "    test_power_5 = collections.Counter(power_5)\n",
        "\n",
        "\n",
        "print()\n",
        "print(f'power with 3% effect: {test_power_5[1]/(test_power_5[1] + test_power_5[0])*100}%')\n"
      ]
    },
    {
      "cell_type": "markdown",
      "metadata": {
        "id": "gxhbkzYIxOw3"
      },
      "source": [
        "Выводы: при логарифмировании метрики, мы получаем лучшие метрики, и касательно корректности, и касательно мощности. Significance у бутстрепа с логарифмированной метрикой 4.7%, что ниже стандартного threshold в 5% и ниже показателей бутстрепа без логарифмирования, что означает, что бутстреп не находит значимого различия в группах, если этого значимого различия нет. Мощность же с логарифмированной метрикой и при эффекте 1%, и при эффекте 3%, и при эффекте 5% - 100%, что означает, что эффекты любого типа будут замечены бутстрепом если они логарифмированны."
      ]
    },
    {
      "cell_type": "markdown",
      "metadata": {
        "id": "fRWwJgTqg7Ja"
      },
      "source": [
        "### манна-уитни + метрика длительности просмотров"
      ]
    },
    {
      "cell_type": "code",
      "execution_count": 16,
      "metadata": {
        "id": "Gt05H-zFn9OY"
      },
      "outputs": [
        {
          "data": {
            "application/vnd.jupyter.widget-view+json": {
              "model_id": "22d6c7db59a44f8592225f4f6b18992b",
              "version_major": 2,
              "version_minor": 0
            },
            "text/plain": [
              "  0%|          | 0/1000 [00:00<?, ?it/s]"
            ]
          },
          "metadata": {},
          "output_type": "display_data"
        },
        {
          "name": "stdout",
          "output_type": "stream",
          "text": [
            "\n"
          ]
        },
        {
          "data": {
            "image/png": "[encoded data removed]",
            "text/plain": [
              "<Figure size 640x480 with 1 Axes>"
            ]
          },
          "metadata": {},
          "output_type": "display_data"
        }
      ],
      "source": [
        "pvalues = []\n",
        "\n",
        "for i in tqdm(range(1000)):\n",
        "\n",
        "  last2weeks_split = groups_splitter(last2weeks, columns=['user_id', 'total_dur', 'group'])\n",
        "\n",
        "  u, p = mannwhitneyu(\n",
        "        last2weeks_split[last2weeks_split['group'] == 'A']['total_dur'].values,\n",
        "        last2weeks_split[last2weeks_split['group'] == 'B']['total_dur'].values\n",
        "    )\n",
        "  pvalues.append(p)\n",
        "\n",
        "print()\n",
        "plt.hist(pvalues, bins=10, color='purple');"
      ]
    },
    {
      "cell_type": "code",
      "execution_count": 17,
      "metadata": {},
      "outputs": [
        {
          "name": "stdout",
          "output_type": "stream",
          "text": [
            "Корректность = 0.042\n"
          ]
        }
      ],
      "source": [
        "pvalues = np.array(pvalues)\n",
        "print(f\"Корректность = {pvalues[pvalues < 0.05].shape[0] / pvalues.shape[0]}\")"
      ]
    },
    {
      "cell_type": "code",
      "execution_count": 18,
      "metadata": {
        "id": "vVd3Q5zvjE42"
      },
      "outputs": [
        {
          "data": {
            "application/vnd.jupyter.widget-view+json": {
              "model_id": "03f855e493ca4202b0edf603e9cd6c2f",
              "version_major": 2,
              "version_minor": 0
            },
            "text/plain": [
              "  0%|          | 0/1000 [00:00<?, ?it/s]"
            ]
          },
          "metadata": {},
          "output_type": "display_data"
        },
        {
          "name": "stdout",
          "output_type": "stream",
          "text": [
            "\n",
            "Мощность с эффектом 1% = 0.239\n"
          ]
        },
        {
          "data": {
            "application/vnd.jupyter.widget-view+json": {
              "model_id": "7a79ce2db3b44ff784ab01964092263b",
              "version_major": 2,
              "version_minor": 0
            },
            "text/plain": [
              "  0%|          | 0/1000 [00:00<?, ?it/s]"
            ]
          },
          "metadata": {},
          "output_type": "display_data"
        },
        {
          "name": "stdout",
          "output_type": "stream",
          "text": [
            "\n",
            "Мощность с эффектом 3% = 0.959\n"
          ]
        },
        {
          "data": {
            "application/vnd.jupyter.widget-view+json": {
              "model_id": "91f7e527edcb452594eedde00af0ed3e",
              "version_major": 2,
              "version_minor": 0
            },
            "text/plain": [
              "  0%|          | 0/1000 [00:00<?, ?it/s]"
            ]
          },
          "metadata": {},
          "output_type": "display_data"
        },
        {
          "name": "stdout",
          "output_type": "stream",
          "text": [
            "\n",
            "Мощность с эффектом 5% = 1.0\n"
          ]
        }
      ],
      "source": [
        "p_values_1 = []\n",
        "p_values_3 = []\n",
        "p_values_5 = []\n",
        "\n",
        "\n",
        "for _ in tqdm(range(1000)):\n",
        "\n",
        "    last2weeks_split = groups_splitter(last2weeks, columns=['user_id', 'total_dur', 'group'])\n",
        "\n",
        "    u, p = mannwhitneyu(\n",
        "        last2weeks_split[last2weeks_split['group'] == 'A']['total_dur'].values,\n",
        "        last2weeks_split[last2weeks_split['group'] == 'B']['total_dur'].values * (1+0.01)\n",
        "    )\n",
        "    p_values_1.append(p)\n",
        "\n",
        "p_values_1 = np.array(p_values_1)\n",
        "\n",
        "print()\n",
        "print(f\"Мощность с эффектом 1% = {p_values_1[p_values_1 < 0.05].shape[0] / p_values_1.shape[0]}\")\n",
        "\n",
        "for _ in tqdm(range(1000)):\n",
        "\n",
        "    last2weeks_split = groups_splitter(last2weeks, columns=['user_id', 'total_dur', 'group'])\n",
        "\n",
        "    u, p = mannwhitneyu(\n",
        "        last2weeks_split[last2weeks_split['group'] == 'A']['total_dur'].values,\n",
        "        last2weeks_split[last2weeks_split['group'] == 'B']['total_dur'].values * (1+0.03)\n",
        "    )\n",
        "    p_values_3.append(p)\n",
        "\n",
        "p_values_3 = np.array(p_values_3)\n",
        "\n",
        "print()\n",
        "print(f\"Мощность с эффектом 3% = {p_values_3[p_values_3 < 0.05].shape[0] / p_values_3.shape[0]}\")\n",
        "\n",
        "for _ in tqdm(range(1000)):\n",
        "\n",
        "    last2weeks_split = groups_splitter(last2weeks, columns=['user_id', 'total_dur', 'group'])\n",
        "\n",
        "    u, p = mannwhitneyu(\n",
        "        last2weeks_split[last2weeks_split['group'] == 'A']['total_dur'].values,\n",
        "        last2weeks_split[last2weeks_split['group'] == 'B']['total_dur'].values * (1+0.05)\n",
        "    )\n",
        "    p_values_5.append(p)\n",
        "\n",
        "p_values_5 = np.array(p_values_5)\n",
        "\n",
        "print()\n",
        "print(f\"Мощность с эффектом 5% = {p_values_5[p_values_5 < 0.05].shape[0] / p_values_5.shape[0]}\")"
      ]
    },
    {
      "cell_type": "markdown",
      "metadata": {
        "id": "3CqBSqWdxeF2"
      },
      "source": [
        "Выводы: манна-уитни - непараметрический тест, который не предполагает нормального распределения, однако показывает себя не очень хорошо в случаях со многими повторяющимися значениями, потому что это критерий ранговый. Significance в 4.2% (ниже 5%) означает, что тест не найдет разницы между группами, когда статистически значимого эффекта нет, что делает его применимым, однако его мощность для маленьких эффектов - низка, при 1% мощность всего 0.239."
      ]
    },
    {
      "cell_type": "markdown",
      "metadata": {
        "id": "3WfDoUkxg9Nb"
      },
      "source": [
        "### манна-уитни + логарифмированная метрика длительности просмотров"
      ]
    },
    {
      "cell_type": "code",
      "execution_count": 19,
      "metadata": {
        "id": "v4oIxUIrhAAS"
      },
      "outputs": [
        {
          "data": {
            "application/vnd.jupyter.widget-view+json": {
              "model_id": "ee0ca616b8d54150af45859c1b2f86cf",
              "version_major": 2,
              "version_minor": 0
            },
            "text/plain": [
              "  0%|          | 0/1000 [00:00<?, ?it/s]"
            ]
          },
          "metadata": {},
          "output_type": "display_data"
        },
        {
          "name": "stdout",
          "output_type": "stream",
          "text": [
            "\n"
          ]
        },
        {
          "data": {
            "image/png": "[encoded data removed]",
            "text/plain": [
              "<Figure size 640x480 with 1 Axes>"
            ]
          },
          "metadata": {},
          "output_type": "display_data"
        }
      ],
      "source": [
        "pvalues = []\n",
        "\n",
        "for i in tqdm(range(1000)):  \n",
        "\n",
        "  last2weeks_split = groups_splitter(last2weeks, columns=['user_id', 'total_dur_ln', 'group'])\n",
        "\n",
        "  u, p = mannwhitneyu(\n",
        "        last2weeks_split[last2weeks_split['group'] == 'A']['total_dur_ln'].values,\n",
        "        last2weeks_split[last2weeks_split['group'] == 'B']['total_dur_ln'].values\n",
        "    )\n",
        "  pvalues.append(p)\n",
        "\n",
        "print()\n",
        "plt.hist(pvalues, bins=10, color='purple');"
      ]
    },
    {
      "cell_type": "code",
      "execution_count": 20,
      "metadata": {},
      "outputs": [
        {
          "name": "stdout",
          "output_type": "stream",
          "text": [
            "Корректность = 0.061\n"
          ]
        }
      ],
      "source": [
        "pvalues = np.array(pvalues)\n",
        "print(f\"Корректность = {pvalues[pvalues < 0.05].shape[0] / pvalues.shape[0]}\")"
      ]
    },
    {
      "cell_type": "code",
      "execution_count": 21,
      "metadata": {
        "id": "J7BAzinBljb5"
      },
      "outputs": [
        {
          "data": {
            "application/vnd.jupyter.widget-view+json": {
              "model_id": "21432a55540f4726b0663f3b2d084c22",
              "version_major": 2,
              "version_minor": 0
            },
            "text/plain": [
              "  0%|          | 0/1000 [00:00<?, ?it/s]"
            ]
          },
          "metadata": {},
          "output_type": "display_data"
        },
        {
          "name": "stdout",
          "output_type": "stream",
          "text": [
            "\n",
            "Мощность с эффектом 1% = 1.0\n"
          ]
        },
        {
          "data": {
            "application/vnd.jupyter.widget-view+json": {
              "model_id": "cd66976696d74ffdb3e5fb2daae63f6c",
              "version_major": 2,
              "version_minor": 0
            },
            "text/plain": [
              "  0%|          | 0/1000 [00:00<?, ?it/s]"
            ]
          },
          "metadata": {},
          "output_type": "display_data"
        },
        {
          "name": "stdout",
          "output_type": "stream",
          "text": [
            "\n",
            "Мощность с эффектом 3% = 1.0\n"
          ]
        },
        {
          "data": {
            "application/vnd.jupyter.widget-view+json": {
              "model_id": "51b13deed28a44578edafbe98da069f6",
              "version_major": 2,
              "version_minor": 0
            },
            "text/plain": [
              "  0%|          | 0/1000 [00:00<?, ?it/s]"
            ]
          },
          "metadata": {},
          "output_type": "display_data"
        },
        {
          "name": "stdout",
          "output_type": "stream",
          "text": [
            "\n",
            "Мощность с эффектом 5% = 1.0\n"
          ]
        }
      ],
      "source": [
        "p_values_1 = []\n",
        "p_values_3 = []\n",
        "p_values_5 = []\n",
        "\n",
        "\n",
        "for _ in tqdm(range(1000)):\n",
        "\n",
        "    last2weeks_split = groups_splitter(last2weeks, columns=['user_id', 'total_dur_ln', 'group'])\n",
        "\n",
        "    u, p = mannwhitneyu(\n",
        "        last2weeks_split[last2weeks_split['group'] == 'A']['total_dur_ln'].values,\n",
        "        last2weeks_split[last2weeks_split['group'] == 'B']['total_dur_ln'].values * np.log2(1+0.01)\n",
        "    )\n",
        "    p_values_1.append(p)\n",
        "\n",
        "p_values_1 = np.array(p_values_1)\n",
        "\n",
        "print()\n",
        "print(f\"Мощность с эффектом 1% = {p_values_1[p_values_1 < 0.05].shape[0] / p_values_1.shape[0]}\")\n",
        "\n",
        "for _ in tqdm(range(1000)):\n",
        "\n",
        "    last2weeks_split = groups_splitter(last2weeks, columns=['user_id', 'total_dur_ln', 'group'])\n",
        "\n",
        "    u, p = mannwhitneyu(\n",
        "        last2weeks_split[last2weeks_split['group'] == 'A']['total_dur_ln'].values,\n",
        "        last2weeks_split[last2weeks_split['group'] == 'B']['total_dur_ln'].values * np.log2(1+0.03)\n",
        "    )\n",
        "    p_values_3.append(p)\n",
        "\n",
        "p_values_3 = np.array(p_values_3)\n",
        "\n",
        "print()\n",
        "print(f\"Мощность с эффектом 3% = {p_values_3[p_values_3 < 0.05].shape[0] / p_values_3.shape[0]}\")\n",
        "\n",
        "for _ in tqdm(range(1000)):\n",
        "\n",
        "    last2weeks_split = groups_splitter(last2weeks, columns=['user_id', 'total_dur_ln', 'group'])\n",
        "\n",
        "    u, p = mannwhitneyu(\n",
        "        last2weeks_split[last2weeks_split['group'] == 'A']['total_dur_ln'].values,\n",
        "        last2weeks_split[last2weeks_split['group'] == 'B']['total_dur_ln'].values * np.log2(1+0.05)\n",
        "    )\n",
        "    p_values_5.append(p)\n",
        "\n",
        "p_values_5 = np.array(p_values_5)\n",
        "\n",
        "print()\n",
        "print(f\"Мощность с эффектом 5% = {p_values_5[p_values_5 < 0.05].shape[0] / p_values_5.shape[0]}\")"
      ]
    },
    {
      "cell_type": "markdown",
      "metadata": {
        "id": "l6J9a0COxfy1"
      },
      "source": [
        "Выводы: проводя теста манна-уитни на логарифмированной метрике мы заметим, что мощность почти 100%, что хорошо и означает, что почти любой эффект будет задетекчен. \n",
        "Однако так же видно, что что significance составляет 6,1%, что выше предыдущих версий с бутстрапом и ощутимо выше, чем принятая мера в 5%, хотя и не так катастрофично."
      ]
    },
    {
      "cell_type": "markdown",
      "metadata": {
        "id": "e-VT94YahAgB"
      },
      "source": [
        "### t-test + метрика длительности просмотров"
      ]
    },
    {
      "cell_type": "code",
      "execution_count": 22,
      "metadata": {
        "id": "SpQV_l8UhCjt"
      },
      "outputs": [
        {
          "data": {
            "application/vnd.jupyter.widget-view+json": {
              "model_id": "465b2868b4db476aab1566ee8c066fcd",
              "version_major": 2,
              "version_minor": 0
            },
            "text/plain": [
              "  0%|          | 0/1000 [00:00<?, ?it/s]"
            ]
          },
          "metadata": {},
          "output_type": "display_data"
        },
        {
          "name": "stdout",
          "output_type": "stream",
          "text": [
            "Корректность = 0.055\n"
          ]
        },
        {
          "data": {
            "image/png": "[encoded data removed]",
            "text/plain": [
              "<Figure size 640x480 with 1 Axes>"
            ]
          },
          "metadata": {},
          "output_type": "display_data"
        }
      ],
      "source": [
        "p_values = []\n",
        "\n",
        "\n",
        "for _ in tqdm(range(1000)):\n",
        "\n",
        "    last2weeks_split = groups_splitter(last2weeks, columns=['user_id', 'total_dur', 'group'])\n",
        "\n",
        "    p = scipy.stats.ttest_ind(last2weeks_split[(last2weeks_split['group'] == 'A')]['total_dur'].values, \n",
        "                              last2weeks_split[(last2weeks_split['group'] == 'B')]['total_dur'].values).pvalue\n",
        "\n",
        "    p_values.append(p)\n",
        "\n",
        "p_values = np.array(p_values)\n",
        "\n",
        "print(f\"Корректность = {p_values[p_values < 0.05].shape[0] / p_values.shape[0]}\")\n",
        "\n",
        "plt.hist(p_values, color='red');\n",
        "plt.title('p_values distribution');"
      ]
    },
    {
      "cell_type": "code",
      "execution_count": 24,
      "metadata": {
        "id": "eIvAOtxXv0wt"
      },
      "outputs": [
        {
          "data": {
            "application/vnd.jupyter.widget-view+json": {
              "model_id": "834cf23c99e644b88d25a4d9fb003837",
              "version_major": 2,
              "version_minor": 0
            },
            "text/plain": [
              "  0%|          | 0/1000 [00:00<?, ?it/s]"
            ]
          },
          "metadata": {},
          "output_type": "display_data"
        },
        {
          "name": "stdout",
          "output_type": "stream",
          "text": [
            "\n",
            "Мощность для эффекта 1% = 0.292\n",
            "\n",
            "Мощность с эффектом 1% = 0.292\n"
          ]
        },
        {
          "data": {
            "application/vnd.jupyter.widget-view+json": {
              "model_id": "e15e3a0d157440689e92f5030e2b9405",
              "version_major": 2,
              "version_minor": 0
            },
            "text/plain": [
              "  0%|          | 0/1000 [00:00<?, ?it/s]"
            ]
          },
          "metadata": {},
          "output_type": "display_data"
        },
        {
          "name": "stdout",
          "output_type": "stream",
          "text": [
            "\n",
            "Мощность с эффектом 3% = 0.994\n"
          ]
        },
        {
          "data": {
            "application/vnd.jupyter.widget-view+json": {
              "model_id": "55a07f9326384a33b13e746a7e0ebe16",
              "version_major": 2,
              "version_minor": 0
            },
            "text/plain": [
              "  0%|          | 0/1000 [00:00<?, ?it/s]"
            ]
          },
          "metadata": {},
          "output_type": "display_data"
        },
        {
          "name": "stdout",
          "output_type": "stream",
          "text": [
            "\n",
            "Мощность с эффектом 5% = 1.0\n"
          ]
        }
      ],
      "source": [
        "p_values_1 = []\n",
        "p_values_3 = []\n",
        "p_values_5 = []\n",
        "\n",
        "\n",
        "\n",
        "for _ in tqdm(range(1000)):\n",
        "\n",
        "    last2weeks_split = groups_splitter(last2weeks, columns=['user_id', 'total_dur', 'group'])\n",
        "\n",
        "    p = scipy.stats.ttest_ind(last2weeks_split[last2weeks_split['group'] == 'A']['total_dur'].values,\n",
        "                             last2weeks_split[last2weeks_split['group'] == 'B']['total_dur'].values * (1+0.01)).pvalue\n",
        "\n",
        "    p_values_1.append(p)\n",
        "\n",
        "p_values_1 = np.array(p_values_1)\n",
        "\n",
        "print()\n",
        "print(f\"Мощность для эффекта 1% = {p_values_1[p_values_1 < 0.05].shape[0] / p_values_1.shape[0]}\")\n",
        "\n",
        "\n",
        "print()\n",
        "print(f\"Мощность с эффектом 1% = {p_values_1[p_values_1 < 0.05].shape[0] / p_values_1.shape[0]}\")\n",
        "\n",
        "for _ in tqdm(range(1000)):\n",
        "\n",
        "    last2weeks_split = groups_splitter(last2weeks, columns=['user_id', 'total_dur', 'group'])\n",
        "\n",
        "    p = scipy.stats.ttest_ind(last2weeks_split[last2weeks_split['group'] == 'A']['total_dur'].values,\n",
        "                             last2weeks_split[last2weeks_split['group'] == 'B']['total_dur'].values * (1+0.03)).pvalue\n",
        "\n",
        "    p_values_3.append(p)\n",
        "\n",
        "p_values_3 = np.array(p_values_3)\n",
        "\n",
        "print()\n",
        "print(f\"Мощность с эффектом 3% = {p_values_3[p_values_3 < 0.05].shape[0] / p_values_3.shape[0]}\")\n",
        "\n",
        "for _ in tqdm(range(1000)):\n",
        "\n",
        "    last2weeks_split = groups_splitter(last2weeks, columns=['user_id', 'total_dur', 'group'])\n",
        "\n",
        "    p = scipy.stats.ttest_ind(last2weeks_split[last2weeks_split['group'] == 'A']['total_dur'].values,\n",
        "                             last2weeks_split[last2weeks_split['group'] == 'B']['total_dur'].values * (1+0.05)).pvalue\n",
        "\n",
        "    p_values_5.append(p)\n",
        "\n",
        "p_values_5 = np.array(p_values_5)\n",
        "\n",
        "print()\n",
        "print(f\"Мощность с эффектом 5% = {p_values_5[p_values_5 < 0.05].shape[0] / p_values_5.shape[0]}\")"
      ]
    },
    {
      "cell_type": "markdown",
      "metadata": {
        "id": "HOSw7tWkxk9d"
      },
      "source": [
        "Сразу следует отметить, что t-test предполагает обязательное условие нормальности распределения. На очень больших данных мы можем принебречь этим условием, ссылаясь на центральную предельную теорему, с учетом того, что сэмплы всё равно будут распределены нормально. Трудно сказать, что у нас прям обилие данных, однако их и не мало.\n",
        "\n",
        "Мы видим, что significance - 5,5%, что слегка выше стандартных 5%.\n",
        "Однако мощность не очень сильных эффектов низка, всего лишь 0.292 для эффекта в 1%, однако для 3% и 5% - довольно высокая, 94% и 100% соответственно. "
      ]
    },
    {
      "cell_type": "markdown",
      "metadata": {
        "id": "H98KcsPMhC_f"
      },
      "source": [
        "### t-test + логарифмированная метрика длительности просмотров"
      ]
    },
    {
      "cell_type": "code",
      "execution_count": 25,
      "metadata": {
        "id": "LVS28Ku_hFFG"
      },
      "outputs": [
        {
          "data": {
            "application/vnd.jupyter.widget-view+json": {
              "model_id": "656952395d024e109173a6e2167a7bb8",
              "version_major": 2,
              "version_minor": 0
            },
            "text/plain": [
              "  0%|          | 0/1000 [00:00<?, ?it/s]"
            ]
          },
          "metadata": {},
          "output_type": "display_data"
        },
        {
          "name": "stdout",
          "output_type": "stream",
          "text": [
            "Корректность = 0.038\n"
          ]
        },
        {
          "data": {
            "image/png": "[encoded data removed]",
            "text/plain": [
              "<Figure size 640x480 with 1 Axes>"
            ]
          },
          "metadata": {},
          "output_type": "display_data"
        }
      ],
      "source": [
        "p_values = []\n",
        "\n",
        "\n",
        "for _ in tqdm(range(1000)):\n",
        "\n",
        "    last2weeks_split = groups_splitter(last2weeks, columns=['user_id', 'total_dur_ln', 'group'])\n",
        "\n",
        "    p = scipy.stats.ttest_ind(last2weeks_split[(last2weeks_split['group'] == 'A')]['total_dur_ln'].values, \n",
        "                              last2weeks_split[(last2weeks_split['group'] == 'B')]['total_dur_ln'].values).pvalue\n",
        "\n",
        "    p_values.append(p)\n",
        "\n",
        "p_values = np.array(p_values)\n",
        "\n",
        "print(f\"Корректность = {p_values[p_values < 0.05].shape[0] / p_values.shape[0]}\")\n",
        "\n",
        "plt.hist(p_values, color='red');\n",
        "plt.title('p_values distribution');"
      ]
    },
    {
      "cell_type": "code",
      "execution_count": 26,
      "metadata": {
        "id": "Fr1Au2bjwviY"
      },
      "outputs": [
        {
          "data": {
            "application/vnd.jupyter.widget-view+json": {
              "model_id": "0a831929882c4870add1b3654dd2ffb3",
              "version_major": 2,
              "version_minor": 0
            },
            "text/plain": [
              "  0%|          | 0/1000 [00:00<?, ?it/s]"
            ]
          },
          "metadata": {},
          "output_type": "display_data"
        },
        {
          "name": "stdout",
          "output_type": "stream",
          "text": [
            "\n",
            "Мощность для эффекта 1% = 1.0\n",
            "\n",
            "Мощность с эффектом 1% = 1.0\n"
          ]
        },
        {
          "data": {
            "application/vnd.jupyter.widget-view+json": {
              "model_id": "7011023427a64c1f929f504f3c0952ab",
              "version_major": 2,
              "version_minor": 0
            },
            "text/plain": [
              "  0%|          | 0/1000 [00:00<?, ?it/s]"
            ]
          },
          "metadata": {},
          "output_type": "display_data"
        },
        {
          "name": "stdout",
          "output_type": "stream",
          "text": [
            "\n",
            "Мощность с эффектом 3% = 1.0\n"
          ]
        },
        {
          "data": {
            "application/vnd.jupyter.widget-view+json": {
              "model_id": "769a510c629b48d9843636e9d691b85c",
              "version_major": 2,
              "version_minor": 0
            },
            "text/plain": [
              "  0%|          | 0/1000 [00:00<?, ?it/s]"
            ]
          },
          "metadata": {},
          "output_type": "display_data"
        },
        {
          "name": "stdout",
          "output_type": "stream",
          "text": [
            "\n",
            "Мощность с эффектом 5% = 1.0\n"
          ]
        }
      ],
      "source": [
        "p_values_1 = []\n",
        "p_values_3 = []\n",
        "p_values_5 = []\n",
        "\n",
        "\n",
        "\n",
        "for _ in tqdm(range(1000)):\n",
        "\n",
        "    last2weeks_split = groups_splitter(last2weeks, columns=['user_id', 'total_dur', 'group'])\n",
        "\n",
        "    p = scipy.stats.ttest_ind(last2weeks_split[last2weeks_split['group'] == 'A']['total_dur'].values,\n",
        "                             last2weeks_split[last2weeks_split['group'] == 'B']['total_dur'].values * np.log2(1+0.01)).pvalue\n",
        "\n",
        "    p_values_1.append(p)\n",
        "\n",
        "p_values_1 = np.array(p_values_1)\n",
        "\n",
        "print()\n",
        "print(f\"Мощность для эффекта 1% = {p_values_1[p_values_1 < 0.05].shape[0] / p_values_1.shape[0]}\")\n",
        "\n",
        "\n",
        "print()\n",
        "print(f\"Мощность с эффектом 1% = {p_values_1[p_values_1 < 0.05].shape[0] / p_values_1.shape[0]}\")\n",
        "\n",
        "for _ in tqdm(range(1000)):\n",
        "\n",
        "    last2weeks_split = groups_splitter(last2weeks, columns=['user_id', 'total_dur', 'group'])\n",
        "\n",
        "    p = scipy.stats.ttest_ind(last2weeks_split[last2weeks_split['group'] == 'A']['total_dur'].values,\n",
        "                             last2weeks_split[last2weeks_split['group'] == 'B']['total_dur'].values * np.log2(1+0.03)).pvalue\n",
        "\n",
        "    p_values_3.append(p)\n",
        "\n",
        "p_values_3 = np.array(p_values_3)\n",
        "\n",
        "print()\n",
        "print(f\"Мощность с эффектом 3% = {p_values_3[p_values_3 < 0.05].shape[0] / p_values_3.shape[0]}\")\n",
        "\n",
        "for _ in tqdm(range(1000)):\n",
        "\n",
        "    last2weeks_split = groups_splitter(last2weeks, columns=['user_id', 'total_dur', 'group'])\n",
        "\n",
        "    p = scipy.stats.ttest_ind(last2weeks_split[last2weeks_split['group'] == 'A']['total_dur'].values,\n",
        "                             last2weeks_split[last2weeks_split['group'] == 'B']['total_dur'].values * np.log2(1+0.05)).pvalue\n",
        "\n",
        "    p_values_5.append(p)\n",
        "\n",
        "p_values_5 = np.array(p_values_5)\n",
        "\n",
        "print()\n",
        "print(f\"Мощность с эффектом 5% = {p_values_5[p_values_5 < 0.05].shape[0] / p_values_5.shape[0]}\")"
      ]
    },
    {
      "cell_type": "markdown",
      "metadata": {
        "id": "GprW4_w8xm-z"
      },
      "source": [
        "Выводы: логарифмирование метрики позволило значительно улучшить результаты для t-test. \n",
        "Корректность составляет 3.8%, что значительно ниже 5% порога, в то время, как мощность с любым добавленным эффектом - 100%."
      ]
    },
    {
      "cell_type": "markdown",
      "metadata": {
        "id": "v53k8CcTxrXJ"
      },
      "source": [
        "### Общий вывод\n",
        "\n",
        "Зачем логарифмируем метрику: \n",
        "\n",
        "1) Помогает приблизить распределение к нормальному, делая его более симметричным для оных с большим хвостом.\n",
        "\n",
        "2) Уменьшает влияние выбросов\n",
        "\n",
        "3) Упрощение интерпретации потому что интерпретируем относительные изменения\n",
        "\n",
        "4) Стабилизация дисперсии\n",
        "\n",
        "Варианты, которые точно не подходят: \n",
        "\n",
        "1) Bootstrap на нелогарифмированную метрику (высоковат significance, низкая мощность для малых эффектов)\n",
        "\n",
        "2) Манна-Уитни на нелогарифмированную метрику (низкая мощность для малых эффектов)\n",
        "\n",
        "3) T-тест на нелогарифмированную метрику (вообще изначально не соблюдается assumption о нормальном распределении, кроме этого высокий significance, низкая мощность для малых эффектов)\n",
        "\n",
        "\n",
        "Выбор критерий + метрика: в итоге я бы выбрал t-test на логарифмированной метрике. \n",
        "\n",
        "У этого критерия высокая мощность, что позволяет отловить даже незначительные изменения в данных, очень низкая вероятность ошибки первого рода, а благодаря логарифмированию метрики мы приближаемся к нормальному распределению, что в целом позволяет нам сделать вид, что assumption о нормальности распределения соблюдено.\n"
      ]
    },
    {
      "cell_type": "markdown",
      "metadata": {
        "id": "zT3FwXowJzpU"
      },
      "source": [
        "### MDE"
      ]
    },
    {
      "cell_type": "code",
      "execution_count": 34,
      "metadata": {
        "id": "IDunosZtRJLp"
      },
      "outputs": [
        {
          "name": "stderr",
          "output_type": "stream",
          "text": [
            "C:\\Users\\Victo\\AppData\\Local\\Temp\\ipykernel_15848\\411558736.py:2: FutureWarning: The provided callable <built-in function sum> is currently using SeriesGroupBy.sum. In a future version of pandas, the provided callable will be used directly. To keep current behavior pass the string \"sum\" instead.\n",
            "  splitted = splitted.groupby('user_id', as_index=False).agg({'total_dur': sum})\n"
          ]
        },
        {
          "name": "stdout",
          "output_type": "stream",
          "text": [
            "1.804622925885654\n"
          ]
        }
      ],
      "source": [
        "splitted = interactions[interactions['last_watch_dt'] >= max_date - datetime.timedelta(days=14)]\n",
        "splitted = splitted.groupby('user_id', as_index=False).agg({'total_dur': sum})\n",
        "splitted = groups_splitter(splitted, columns=['user_id', 'total_dur', 'group'], user_salt=salt_generator(salt='kiontestmodel20210805')).drop_duplicates()\n",
        "mde = get_mde(splitted['total_dur'], alpha=0.05, beta=0.2)\n",
        "print(mde)"
      ]
    },
    {
      "cell_type": "markdown",
      "metadata": {
        "id": "1Kc4I8VcxHkQ"
      },
      "source": [
        "Объяснение: MDE помогает понять, насколько чувствителен  тест и какие эффекты можно  обнаружить при заданных альфа и бета. Результат  означает, что  тест чувствителен к эффектам, которые не менее чем на 1.804622 единицы отличаются от нулевого эффекта."
      ]
    },
    {
      "cell_type": "markdown",
      "metadata": {
        "id": "9igxVuXvyt9e"
      },
      "source": [
        "## A/B test"
      ]
    },
    {
      "cell_type": "code",
      "execution_count": 109,
      "metadata": {
        "id": "V0tlqMsFywc4"
      },
      "outputs": [],
      "source": [
        "abdata = last2weeks"
      ]
    },
    {
      "cell_type": "code",
      "execution_count": 110,
      "metadata": {
        "id": "Jrx0MXjazDIg"
      },
      "outputs": [],
      "source": [
        "abdata.loc[abdata['total_dur'] < 500, ['total_dur']] = 0"
      ]
    },
    {
      "cell_type": "code",
      "execution_count": 111,
      "metadata": {
        "id": "xBrVmrmu0Jb2"
      },
      "outputs": [],
      "source": [
        "absplitted = groups_splitter(abdata, columns=['user_id', 'total_dur', 'group'], user_salt=salt_generator(salt='kiontestmodel20210805')).drop_duplicates()"
      ]
    },
    {
      "cell_type": "code",
      "execution_count": 99,
      "metadata": {},
      "outputs": [
        {
          "name": "stderr",
          "output_type": "stream",
          "text": [
            "C:\\Users\\Victo\\AppData\\Local\\Temp\\ipykernel_15848\\3176841327.py:4: FutureWarning: Setting an item of incompatible dtype is deprecated and will raise an error in a future version of pandas. Value '[ 53352.275  65216.65   48854.575 ...  63776.525 126872.45   79733.725]' has dtype incompatible with int64, please explicitly cast to a compatible dtype first.\n",
            "  absplitted.loc[top_10_percent.index, 'total_dur'] *= 1.025\n"
          ]
        }
      ],
      "source": [
        "group_b = absplitted[absplitted['group'] == 'B']\n",
        "cutoff = group_b['total_dur'].quantile(0.9)\n",
        "top_10_percent = group_b[group_b['total_dur'] > cutoff]\n",
        "absplitted.loc[top_10_percent.index, 'total_dur'] *= 1.025"
      ]
    },
    {
      "cell_type": "code",
      "execution_count": 101,
      "metadata": {},
      "outputs": [],
      "source": [
        "absplitted['log_total_dur'] = np.log2(absplitted['total_dur'] + 1e-6)"
      ]
    },
    {
      "cell_type": "code",
      "execution_count": 107,
      "metadata": {},
      "outputs": [
        {
          "name": "stdout",
          "output_type": "stream",
          "text": [
            "t-statistic: 0.7711935737259092\n",
            "P-value: 0.44059286381950236\n",
            "Fail to reject the null hypothesis. There is no significant difference.\n"
          ]
        }
      ],
      "source": [
        "t_statistic, p_value = scipy.stats.ttest_ind(absplitted[(absplitted['group'] == 'A')]['log_total_dur'].values, \n",
        "                              absplitted[(absplitted['group'] == 'B')]['log_total_dur'].values)\n",
        "\n",
        "alpha = 0.05\n",
        "\n",
        "print(f\"t-statistic: {t_statistic}\")\n",
        "print(f\"P-value: {p_value}\")\n",
        "\n",
        "if p_value < alpha:\n",
        "    print(\"Reject the null hypothesis. The new thing is performing significantly better.\")\n",
        "else:\n",
        "    print(\"Fail to reject the null hypothesis. There is no significant difference.\")"
      ]
    },
    {
      "cell_type": "markdown",
      "metadata": {
        "id": "dLFE0W3x5-FP"
      },
      "source": [
        "Выводы к A/B тесту:\n",
        "\n",
        "Честно говоря, я не смог найти причину, почему p-value получается столь высокий и мы вынуждены придерживаться нулевой гипотезы. Как будто бы по логике задания у нас разница не является случайным шумом и должна быть отражена в A/B тесте. \n",
        "\n",
        "Однако тест показывает, что разница не является статистически значимой, соответственно не выходит за пределы стат. погрешности.\n",
        "Из теста следует, что введение изменения принципиально не повлияло на ключевую метрику, соответственно изменение не имеет смысла.\n",
        "\n",
        "Интуитивно мне кажется, что либо тест оказался недостаточно мощным, либо я где-то ошибся в рассчетах и преобразованиях. Но ошибку найти не могу."
      ]
    }
  ],
  "metadata": {
    "colab": {
      "provenance": []
    },
    "kernelspec": {
      "display_name": "ab_hw1",
      "language": "python",
      "name": "python3"
    },
    "language_info": {
      "codemirror_mode": {
        "name": "ipython",
        "version": 3
      },
      "file_extension": ".py",
      "mimetype": "text/x-python",
      "name": "python",
      "nbconvert_exporter": "python",
      "pygments_lexer": "ipython3",
      "version": "3.12.8"
    },
    "widgets": {
      "application/vnd.jupyter.widget-state+json": {
        "0289439fc2154ce1b8ba8943f9008f67": {
          "model_module": "@jupyter-widgets/base",
          "model_module_version": "1.2.0",
          "model_name": "LayoutModel",
          "state": {
            "_model_module": "@jupyter-widgets/base",
            "_model_module_version": "1.2.0",
            "_model_name": "LayoutModel",
            "_view_count": null,
            "_view_module": "@jupyter-widgets/base",
            "_view_module_version": "1.2.0",
            "_view_name": "LayoutView",
            "align_content": null,
            "align_items": null,
            "align_self": null,
            "border": null,
            "bottom": null,
            "display": null,
            "flex": null,
            "flex_flow": null,
            "grid_area": null,
            "grid_auto_columns": null,
            "grid_auto_flow": null,
            "grid_auto_rows": null,
            "grid_column": null,
            "grid_gap": null,
            "grid_row": null,
            "grid_template_areas": null,
            "grid_template_columns": null,
            "grid_template_rows": null,
            "height": null,
            "justify_content": null,
            "justify_items": null,
            "left": null,
            "margin": null,
            "max_height": null,
            "max_width": null,
            "min_height": null,
            "min_width": null,
            "object_fit": null,
            "object_position": null,
            "order": null,
            "overflow": null,
            "overflow_x": null,
            "overflow_y": null,
            "padding": null,
            "right": null,
            "top": null,
            "visibility": null,
            "width": null
          }
        },
        "0e7a4f72a4a741eba6b8aad67f21479d": {
          "model_module": "@jupyter-widgets/base",
          "model_module_version": "1.2.0",
          "model_name": "LayoutModel",
          "state": {
            "_model_module": "@jupyter-widgets/base",
            "_model_module_version": "1.2.0",
            "_model_name": "LayoutModel",
            "_view_count": null,
            "_view_module": "@jupyter-widgets/base",
            "_view_module_version": "1.2.0",
            "_view_name": "LayoutView",
            "align_content": null,
            "align_items": null,
            "align_self": null,
            "border": null,
            "bottom": null,
            "display": null,
            "flex": null,
            "flex_flow": null,
            "grid_area": null,
            "grid_auto_columns": null,
            "grid_auto_flow": null,
            "grid_auto_rows": null,
            "grid_column": null,
            "grid_gap": null,
            "grid_row": null,
            "grid_template_areas": null,
            "grid_template_columns": null,
            "grid_template_rows": null,
            "height": null,
            "justify_content": null,
            "justify_items": null,
            "left": null,
            "margin": null,
            "max_height": null,
            "max_width": null,
            "min_height": null,
            "min_width": null,
            "object_fit": null,
            "object_position": null,
            "order": null,
            "overflow": null,
            "overflow_x": null,
            "overflow_y": null,
            "padding": null,
            "right": null,
            "top": null,
            "visibility": null,
            "width": null
          }
        },
        "1bf475d3d2164234be952a4440efdf26": {
          "model_module": "@jupyter-widgets/base",
          "model_module_version": "1.2.0",
          "model_name": "LayoutModel",
          "state": {
            "_model_module": "@jupyter-widgets/base",
            "_model_module_version": "1.2.0",
            "_model_name": "LayoutModel",
            "_view_count": null,
            "_view_module": "@jupyter-widgets/base",
            "_view_module_version": "1.2.0",
            "_view_name": "LayoutView",
            "align_content": null,
            "align_items": null,
            "align_self": null,
            "border": null,
            "bottom": null,
            "display": null,
            "flex": null,
            "flex_flow": null,
            "grid_area": null,
            "grid_auto_columns": null,
            "grid_auto_flow": null,
            "grid_auto_rows": null,
            "grid_column": null,
            "grid_gap": null,
            "grid_row": null,
            "grid_template_areas": null,
            "grid_template_columns": null,
            "grid_template_rows": null,
            "height": null,
            "justify_content": null,
            "justify_items": null,
            "left": null,
            "margin": null,
            "max_height": null,
            "max_width": null,
            "min_height": null,
            "min_width": null,
            "object_fit": null,
            "object_position": null,
            "order": null,
            "overflow": null,
            "overflow_x": null,
            "overflow_y": null,
            "padding": null,
            "right": null,
            "top": null,
            "visibility": null,
            "width": null
          }
        },
        "39ef468f496d4e9f85b2064c85ba9687": {
          "model_module": "@jupyter-widgets/base",
          "model_module_version": "1.2.0",
          "model_name": "LayoutModel",
          "state": {
            "_model_module": "@jupyter-widgets/base",
            "_model_module_version": "1.2.0",
            "_model_name": "LayoutModel",
            "_view_count": null,
            "_view_module": "@jupyter-widgets/base",
            "_view_module_version": "1.2.0",
            "_view_name": "LayoutView",
            "align_content": null,
            "align_items": null,
            "align_self": null,
            "border": null,
            "bottom": null,
            "display": null,
            "flex": null,
            "flex_flow": null,
            "grid_area": null,
            "grid_auto_columns": null,
            "grid_auto_flow": null,
            "grid_auto_rows": null,
            "grid_column": null,
            "grid_gap": null,
            "grid_row": null,
            "grid_template_areas": null,
            "grid_template_columns": null,
            "grid_template_rows": null,
            "height": null,
            "justify_content": null,
            "justify_items": null,
            "left": null,
            "margin": null,
            "max_height": null,
            "max_width": null,
            "min_height": null,
            "min_width": null,
            "object_fit": null,
            "object_position": null,
            "order": null,
            "overflow": null,
            "overflow_x": null,
            "overflow_y": null,
            "padding": null,
            "right": null,
            "top": null,
            "visibility": null,
            "width": null
          }
        },
        "5a53a44fabbe4337b979e819869b93cd": {
          "model_module": "@jupyter-widgets/controls",
          "model_module_version": "1.5.0",
          "model_name": "HTMLModel",
          "state": {
            "_dom_classes": [],
            "_model_module": "@jupyter-widgets/controls",
            "_model_module_version": "1.5.0",
            "_model_name": "HTMLModel",
            "_view_count": null,
            "_view_module": "@jupyter-widgets/controls",
            "_view_module_version": "1.5.0",
            "_view_name": "HTMLView",
            "description": "",
            "description_tooltip": null,
            "layout": "IPY_MODEL_849243be59c24b88a57b1f76ad3e6f16",
            "placeholder": "​",
            "style": "IPY_MODEL_5ab1272aacca4c5ab5d8e9c742ef9fbc",
            "value": " 78/1000 [10:25&lt;2:00:10,  7.82s/it]"
          }
        },
        "5ab1272aacca4c5ab5d8e9c742ef9fbc": {
          "model_module": "@jupyter-widgets/controls",
          "model_module_version": "1.5.0",
          "model_name": "DescriptionStyleModel",
          "state": {
            "_model_module": "@jupyter-widgets/controls",
            "_model_module_version": "1.5.0",
            "_model_name": "DescriptionStyleModel",
            "_view_count": null,
            "_view_module": "@jupyter-widgets/base",
            "_view_module_version": "1.2.0",
            "_view_name": "StyleView",
            "description_width": ""
          }
        },
        "5bd73868bc9348e4ad511e5019c98540": {
          "model_module": "@jupyter-widgets/controls",
          "model_module_version": "1.5.0",
          "model_name": "HBoxModel",
          "state": {
            "_dom_classes": [],
            "_model_module": "@jupyter-widgets/controls",
            "_model_module_version": "1.5.0",
            "_model_name": "HBoxModel",
            "_view_count": null,
            "_view_module": "@jupyter-widgets/controls",
            "_view_module_version": "1.5.0",
            "_view_name": "HBoxView",
            "box_style": "",
            "children": [
              "IPY_MODEL_8f1fdd1ae9054ff79aefc3bc71b506f2",
              "IPY_MODEL_dab3a209c1ad4888b2b1cf256ca6d661",
              "IPY_MODEL_5a53a44fabbe4337b979e819869b93cd"
            ],
            "layout": "IPY_MODEL_1bf475d3d2164234be952a4440efdf26"
          }
        },
        "8162ba8db12240d7aa22621cbd32b7f6": {
          "model_module": "@jupyter-widgets/controls",
          "model_module_version": "1.5.0",
          "model_name": "HTMLModel",
          "state": {
            "_dom_classes": [],
            "_model_module": "@jupyter-widgets/controls",
            "_model_module_version": "1.5.0",
            "_model_name": "HTMLModel",
            "_view_count": null,
            "_view_module": "@jupyter-widgets/controls",
            "_view_module_version": "1.5.0",
            "_view_name": "HTMLView",
            "description": "",
            "description_tooltip": null,
            "layout": "IPY_MODEL_0289439fc2154ce1b8ba8943f9008f67",
            "placeholder": "​",
            "style": "IPY_MODEL_a6c28dec95db4821b8c886a833db6134",
            "value": "kion dataset download: 100%"
          }
        },
        "846bda224c2a48689211bf3011d93d64": {
          "model_module": "@jupyter-widgets/controls",
          "model_module_version": "1.5.0",
          "model_name": "HTMLModel",
          "state": {
            "_dom_classes": [],
            "_model_module": "@jupyter-widgets/controls",
            "_model_module_version": "1.5.0",
            "_model_name": "HTMLModel",
            "_view_count": null,
            "_view_module": "@jupyter-widgets/controls",
            "_view_module_version": "1.5.0",
            "_view_name": "HTMLView",
            "description": "",
            "description_tooltip": null,
            "layout": "IPY_MODEL_cdb902a8c3ee4b22a12fefceb088eae8",
            "placeholder": "​",
            "style": "IPY_MODEL_a2960970663e490dae9e3f627335b637",
            "value": " 78.8M/78.8M [00:24&lt;00:00, 76.1MiB/s]"
          }
        },
        "849243be59c24b88a57b1f76ad3e6f16": {
          "model_module": "@jupyter-widgets/base",
          "model_module_version": "1.2.0",
          "model_name": "LayoutModel",
          "state": {
            "_model_module": "@jupyter-widgets/base",
            "_model_module_version": "1.2.0",
            "_model_name": "LayoutModel",
            "_view_count": null,
            "_view_module": "@jupyter-widgets/base",
            "_view_module_version": "1.2.0",
            "_view_name": "LayoutView",
            "align_content": null,
            "align_items": null,
            "align_self": null,
            "border": null,
            "bottom": null,
            "display": null,
            "flex": null,
            "flex_flow": null,
            "grid_area": null,
            "grid_auto_columns": null,
            "grid_auto_flow": null,
            "grid_auto_rows": null,
            "grid_column": null,
            "grid_gap": null,
            "grid_row": null,
            "grid_template_areas": null,
            "grid_template_columns": null,
            "grid_template_rows": null,
            "height": null,
            "justify_content": null,
            "justify_items": null,
            "left": null,
            "margin": null,
            "max_height": null,
            "max_width": null,
            "min_height": null,
            "min_width": null,
            "object_fit": null,
            "object_position": null,
            "order": null,
            "overflow": null,
            "overflow_x": null,
            "overflow_y": null,
            "padding": null,
            "right": null,
            "top": null,
            "visibility": null,
            "width": null
          }
        },
        "8f1fdd1ae9054ff79aefc3bc71b506f2": {
          "model_module": "@jupyter-widgets/controls",
          "model_module_version": "1.5.0",
          "model_name": "HTMLModel",
          "state": {
            "_dom_classes": [],
            "_model_module": "@jupyter-widgets/controls",
            "_model_module_version": "1.5.0",
            "_model_name": "HTMLModel",
            "_view_count": null,
            "_view_module": "@jupyter-widgets/controls",
            "_view_module_version": "1.5.0",
            "_view_name": "HTMLView",
            "description": "",
            "description_tooltip": null,
            "layout": "IPY_MODEL_94168e6b849643d1b1762064b98dc171",
            "placeholder": "​",
            "style": "IPY_MODEL_d747d81ec16e4d98b8df9668563db696",
            "value": "  8%"
          }
        },
        "94168e6b849643d1b1762064b98dc171": {
          "model_module": "@jupyter-widgets/base",
          "model_module_version": "1.2.0",
          "model_name": "LayoutModel",
          "state": {
            "_model_module": "@jupyter-widgets/base",
            "_model_module_version": "1.2.0",
            "_model_name": "LayoutModel",
            "_view_count": null,
            "_view_module": "@jupyter-widgets/base",
            "_view_module_version": "1.2.0",
            "_view_name": "LayoutView",
            "align_content": null,
            "align_items": null,
            "align_self": null,
            "border": null,
            "bottom": null,
            "display": null,
            "flex": null,
            "flex_flow": null,
            "grid_area": null,
            "grid_auto_columns": null,
            "grid_auto_flow": null,
            "grid_auto_rows": null,
            "grid_column": null,
            "grid_gap": null,
            "grid_row": null,
            "grid_template_areas": null,
            "grid_template_columns": null,
            "grid_template_rows": null,
            "height": null,
            "justify_content": null,
            "justify_items": null,
            "left": null,
            "margin": null,
            "max_height": null,
            "max_width": null,
            "min_height": null,
            "min_width": null,
            "object_fit": null,
            "object_position": null,
            "order": null,
            "overflow": null,
            "overflow_x": null,
            "overflow_y": null,
            "padding": null,
            "right": null,
            "top": null,
            "visibility": null,
            "width": null
          }
        },
        "a2960970663e490dae9e3f627335b637": {
          "model_module": "@jupyter-widgets/controls",
          "model_module_version": "1.5.0",
          "model_name": "DescriptionStyleModel",
          "state": {
            "_model_module": "@jupyter-widgets/controls",
            "_model_module_version": "1.5.0",
            "_model_name": "DescriptionStyleModel",
            "_view_count": null,
            "_view_module": "@jupyter-widgets/base",
            "_view_module_version": "1.2.0",
            "_view_name": "StyleView",
            "description_width": ""
          }
        },
        "a6c28dec95db4821b8c886a833db6134": {
          "model_module": "@jupyter-widgets/controls",
          "model_module_version": "1.5.0",
          "model_name": "DescriptionStyleModel",
          "state": {
            "_model_module": "@jupyter-widgets/controls",
            "_model_module_version": "1.5.0",
            "_model_name": "DescriptionStyleModel",
            "_view_count": null,
            "_view_module": "@jupyter-widgets/base",
            "_view_module_version": "1.2.0",
            "_view_name": "StyleView",
            "description_width": ""
          }
        },
        "b526b2b810bc4951b2f0b0441a93c022": {
          "model_module": "@jupyter-widgets/controls",
          "model_module_version": "1.5.0",
          "model_name": "HBoxModel",
          "state": {
            "_dom_classes": [],
            "_model_module": "@jupyter-widgets/controls",
            "_model_module_version": "1.5.0",
            "_model_name": "HBoxModel",
            "_view_count": null,
            "_view_module": "@jupyter-widgets/controls",
            "_view_module_version": "1.5.0",
            "_view_name": "HBoxView",
            "box_style": "",
            "children": [
              "IPY_MODEL_8162ba8db12240d7aa22621cbd32b7f6",
              "IPY_MODEL_be3e34dc082a4270ae97755f19ecd251",
              "IPY_MODEL_846bda224c2a48689211bf3011d93d64"
            ],
            "layout": "IPY_MODEL_0e7a4f72a4a741eba6b8aad67f21479d"
          }
        },
        "be3e34dc082a4270ae97755f19ecd251": {
          "model_module": "@jupyter-widgets/controls",
          "model_module_version": "1.5.0",
          "model_name": "FloatProgressModel",
          "state": {
            "_dom_classes": [],
            "_model_module": "@jupyter-widgets/controls",
            "_model_module_version": "1.5.0",
            "_model_name": "FloatProgressModel",
            "_view_count": null,
            "_view_module": "@jupyter-widgets/controls",
            "_view_module_version": "1.5.0",
            "_view_name": "ProgressView",
            "bar_style": "",
            "description": "",
            "description_tooltip": null,
            "layout": "IPY_MODEL_dd516e1240ca48a59075c0819517c56c",
            "max": 78795619,
            "min": 0,
            "orientation": "horizontal",
            "style": "IPY_MODEL_d5e140c0862a4eddb15ebbfc0cef7210",
            "value": 78795619
          }
        },
        "cdb902a8c3ee4b22a12fefceb088eae8": {
          "model_module": "@jupyter-widgets/base",
          "model_module_version": "1.2.0",
          "model_name": "LayoutModel",
          "state": {
            "_model_module": "@jupyter-widgets/base",
            "_model_module_version": "1.2.0",
            "_model_name": "LayoutModel",
            "_view_count": null,
            "_view_module": "@jupyter-widgets/base",
            "_view_module_version": "1.2.0",
            "_view_name": "LayoutView",
            "align_content": null,
            "align_items": null,
            "align_self": null,
            "border": null,
            "bottom": null,
            "display": null,
            "flex": null,
            "flex_flow": null,
            "grid_area": null,
            "grid_auto_columns": null,
            "grid_auto_flow": null,
            "grid_auto_rows": null,
            "grid_column": null,
            "grid_gap": null,
            "grid_row": null,
            "grid_template_areas": null,
            "grid_template_columns": null,
            "grid_template_rows": null,
            "height": null,
            "justify_content": null,
            "justify_items": null,
            "left": null,
            "margin": null,
            "max_height": null,
            "max_width": null,
            "min_height": null,
            "min_width": null,
            "object_fit": null,
            "object_position": null,
            "order": null,
            "overflow": null,
            "overflow_x": null,
            "overflow_y": null,
            "padding": null,
            "right": null,
            "top": null,
            "visibility": null,
            "width": null
          }
        },
        "d5e140c0862a4eddb15ebbfc0cef7210": {
          "model_module": "@jupyter-widgets/controls",
          "model_module_version": "1.5.0",
          "model_name": "ProgressStyleModel",
          "state": {
            "_model_module": "@jupyter-widgets/controls",
            "_model_module_version": "1.5.0",
            "_model_name": "ProgressStyleModel",
            "_view_count": null,
            "_view_module": "@jupyter-widgets/base",
            "_view_module_version": "1.2.0",
            "_view_name": "StyleView",
            "bar_color": null,
            "description_width": ""
          }
        },
        "d747d81ec16e4d98b8df9668563db696": {
          "model_module": "@jupyter-widgets/controls",
          "model_module_version": "1.5.0",
          "model_name": "DescriptionStyleModel",
          "state": {
            "_model_module": "@jupyter-widgets/controls",
            "_model_module_version": "1.5.0",
            "_model_name": "DescriptionStyleModel",
            "_view_count": null,
            "_view_module": "@jupyter-widgets/base",
            "_view_module_version": "1.2.0",
            "_view_name": "StyleView",
            "description_width": ""
          }
        },
        "dab3a209c1ad4888b2b1cf256ca6d661": {
          "model_module": "@jupyter-widgets/controls",
          "model_module_version": "1.5.0",
          "model_name": "FloatProgressModel",
          "state": {
            "_dom_classes": [],
            "_model_module": "@jupyter-widgets/controls",
            "_model_module_version": "1.5.0",
            "_model_name": "FloatProgressModel",
            "_view_count": null,
            "_view_module": "@jupyter-widgets/controls",
            "_view_module_version": "1.5.0",
            "_view_name": "ProgressView",
            "bar_style": "",
            "description": "",
            "description_tooltip": null,
            "layout": "IPY_MODEL_39ef468f496d4e9f85b2064c85ba9687",
            "max": 1000,
            "min": 0,
            "orientation": "horizontal",
            "style": "IPY_MODEL_ff69d2919c7347888e703d0cfda9dd11",
            "value": 78
          }
        },
        "dd516e1240ca48a59075c0819517c56c": {
          "model_module": "@jupyter-widgets/base",
          "model_module_version": "1.2.0",
          "model_name": "LayoutModel",
          "state": {
            "_model_module": "@jupyter-widgets/base",
            "_model_module_version": "1.2.0",
            "_model_name": "LayoutModel",
            "_view_count": null,
            "_view_module": "@jupyter-widgets/base",
            "_view_module_version": "1.2.0",
            "_view_name": "LayoutView",
            "align_content": null,
            "align_items": null,
            "align_self": null,
            "border": null,
            "bottom": null,
            "display": null,
            "flex": null,
            "flex_flow": null,
            "grid_area": null,
            "grid_auto_columns": null,
            "grid_auto_flow": null,
            "grid_auto_rows": null,
            "grid_column": null,
            "grid_gap": null,
            "grid_row": null,
            "grid_template_areas": null,
            "grid_template_columns": null,
            "grid_template_rows": null,
            "height": null,
            "justify_content": null,
            "justify_items": null,
            "left": null,
            "margin": null,
            "max_height": null,
            "max_width": null,
            "min_height": null,
            "min_width": null,
            "object_fit": null,
            "object_position": null,
            "order": null,
            "overflow": null,
            "overflow_x": null,
            "overflow_y": null,
            "padding": null,
            "right": null,
            "top": null,
            "visibility": null,
            "width": null
          }
        },
        "ff69d2919c7347888e703d0cfda9dd11": {
          "model_module": "@jupyter-widgets/controls",
          "model_module_version": "1.5.0",
          "model_name": "ProgressStyleModel",
          "state": {
            "_model_module": "@jupyter-widgets/controls",
            "_model_module_version": "1.5.0",
            "_model_name": "ProgressStyleModel",
            "_view_count": null,
            "_view_module": "@jupyter-widgets/base",
            "_view_module_version": "1.2.0",
            "_view_name": "StyleView",
            "bar_color": null,
            "description_width": ""
          }
        }
      }
    }
  },
  "nbformat": 4,
  "nbformat_minor": 0
}
